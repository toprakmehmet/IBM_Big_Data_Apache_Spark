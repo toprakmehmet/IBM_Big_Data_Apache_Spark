{
 "cells": [
  {
   "cell_type": "markdown",
   "metadata": {},
   "source": [
    "Welcome to exercise one of week four of “Apache Spark for Scalable Machine Learning on BigData”. In this exercise we’ll work on classification.\n",
    "\n",
    "Let’s create our DataFrame again:\n"
   ]
  },
  {
   "cell_type": "markdown",
   "metadata": {},
   "source": [
    "This notebook is designed to run in a IBM Watson Studio Apache Spark runtime. In case you are running it in an IBM Watson Studio standard runtime or outside Watson Studio, we install Apache Spark in local mode for test purposes only. Please don't use it in production."
   ]
  },
  {
   "cell_type": "code",
   "execution_count": null,
   "metadata": {},
   "outputs": [],
   "source": [
    "!pip install --upgrade pip"
   ]
  },
  {
   "cell_type": "code",
   "execution_count": 1,
   "metadata": {},
   "outputs": [
    {
     "name": "stdout",
     "output_type": "stream",
     "text": [
      "It seems you are note running in a IBM Watson Studio Apache Spark Notebook. You might be running in a IBM Watson Studio Default Runtime or outside IBM Waston Studio. Therefore installing local Apache Spark environment for you. Please do not use in Production\n"
     ]
    },
    {
     "name": "stderr",
     "output_type": "stream",
     "text": [
      "WARNING: pip is being invoked by an old script wrapper. This will fail in a future version of pip.\n",
      "Please see https://github.com/pypa/pip/issues/5599 for advice on fixing the underlying issue.\n",
      "To avoid this problem you can invoke Python with '-m pip' instead of running pip directly.\n"
     ]
    },
    {
     "name": "stdout",
     "output_type": "stream",
     "text": [
      "Requirement already satisfied: pyspark==2.4.5 in /anaconda3/lib/python3.7/site-packages (2.4.5)\n",
      "Requirement already satisfied: py4j==0.10.7 in /anaconda3/lib/python3.7/site-packages (from pyspark==2.4.5) (0.10.7)\n"
     ]
    },
    {
     "name": "stderr",
     "output_type": "stream",
     "text": [
      "WARNING: You are using pip version 20.0.2; however, version 20.1 is available.\n",
      "You should consider upgrading via the '//anaconda3/bin/python -m pip install --upgrade pip' command.\n"
     ]
    }
   ],
   "source": [
    "if not ('sc' in locals() or 'sc' in globals()):\n",
    "    print('It seems you are note running in a IBM Watson Studio Apache Spark Notebook. You might be running in a IBM Watson Studio Default Runtime or outside IBM Waston Studio. Therefore installing local Apache Spark environment for you. Please do not use in Production')\n",
    "    \n",
    "    from pip import main\n",
    "    main(['install', 'pyspark==2.4.5'])\n",
    "    \n",
    "    from pyspark import SparkContext, SparkConf\n",
    "    from pyspark.sql import SparkSession\n",
    "\n",
    "    sc = SparkContext.getOrCreate(SparkConf().setMaster(\"local[*]\"))\n",
    "    \n",
    "    spark = SparkSession \\\n",
    "        .builder \\\n",
    "        .getOrCreate()"
   ]
  },
  {
   "cell_type": "code",
   "execution_count": 2,
   "metadata": {},
   "outputs": [],
   "source": [
    "# # delete files from previous runs\n",
    "# !rm -f hmp.parquet*\n",
    "\n",
    "# # download the file containing the data in PARQUET format\n",
    "# !wget https://github.com/IBM/coursera/raw/master/hmp.parquet\n",
    "    \n",
    "# create a dataframe out of it\n",
    "df = spark.read.parquet('hmp.parquet')\n",
    "\n",
    "# register a corresponding query table\n",
    "df.createOrReplaceTempView('df')"
   ]
  },
  {
   "cell_type": "markdown",
   "metadata": {},
   "source": [
    "Since this is supervised learning, let’s split our data into train (80%) and test (20%) set."
   ]
  },
  {
   "cell_type": "code",
   "execution_count": 3,
   "metadata": {},
   "outputs": [],
   "source": [
    "splits = df.randomSplit([0.8, 0.2])\n",
    "df_train = splits[0]\n",
    "df_test = splits[1]"
   ]
  },
  {
   "cell_type": "markdown",
   "metadata": {},
   "source": [
    "Again, we can re-use our feature engineering pipeline"
   ]
  },
  {
   "cell_type": "code",
   "execution_count": 5,
   "metadata": {},
   "outputs": [
    {
     "name": "stdout",
     "output_type": "stream",
     "text": [
      "+---+---+---+--------------------+-----------+\n",
      "|  x|  y|  z|              source|      class|\n",
      "+---+---+---+--------------------+-----------+\n",
      "| 22| 49| 35|Accelerometer-201...|Brush_teeth|\n",
      "| 22| 49| 35|Accelerometer-201...|Brush_teeth|\n",
      "| 22| 52| 35|Accelerometer-201...|Brush_teeth|\n",
      "| 22| 52| 35|Accelerometer-201...|Brush_teeth|\n",
      "| 21| 52| 34|Accelerometer-201...|Brush_teeth|\n",
      "| 22| 51| 34|Accelerometer-201...|Brush_teeth|\n",
      "| 20| 50| 35|Accelerometer-201...|Brush_teeth|\n",
      "| 22| 52| 34|Accelerometer-201...|Brush_teeth|\n",
      "| 22| 50| 34|Accelerometer-201...|Brush_teeth|\n",
      "| 22| 51| 35|Accelerometer-201...|Brush_teeth|\n",
      "| 21| 51| 33|Accelerometer-201...|Brush_teeth|\n",
      "| 20| 50| 34|Accelerometer-201...|Brush_teeth|\n",
      "| 21| 49| 33|Accelerometer-201...|Brush_teeth|\n",
      "| 21| 49| 33|Accelerometer-201...|Brush_teeth|\n",
      "| 20| 51| 35|Accelerometer-201...|Brush_teeth|\n",
      "| 18| 49| 34|Accelerometer-201...|Brush_teeth|\n",
      "| 19| 48| 34|Accelerometer-201...|Brush_teeth|\n",
      "| 16| 53| 34|Accelerometer-201...|Brush_teeth|\n",
      "| 18| 52| 35|Accelerometer-201...|Brush_teeth|\n",
      "| 18| 51| 32|Accelerometer-201...|Brush_teeth|\n",
      "+---+---+---+--------------------+-----------+\n",
      "only showing top 20 rows\n",
      "\n"
     ]
    }
   ],
   "source": [
    "df.show()"
   ]
  },
  {
   "cell_type": "code",
   "execution_count": 6,
   "metadata": {},
   "outputs": [],
   "source": [
    "from pyspark.ml.feature import StringIndexer, OneHotEncoder\n",
    "from pyspark.ml.linalg import Vectors\n",
    "from pyspark.ml.feature import VectorAssembler\n",
    "from pyspark.ml.feature import Normalizer\n",
    "\n",
    "\n",
    "indexer = StringIndexer(inputCol=\"class\", outputCol=\"label\")\n",
    "\n",
    "vectorAssembler = VectorAssembler(inputCols=[\"x\",\"y\",\"z\"],\n",
    "                                  outputCol=\"features\")\n",
    "\n",
    "normalizer = Normalizer(inputCol=\"features\", outputCol=\"features_norm\", p=1.0)"
   ]
  },
  {
   "cell_type": "markdown",
   "metadata": {},
   "source": [
    "Now we use LogisticRegression, a simple and basic linear classifier to obtain a classification performance baseline."
   ]
  },
  {
   "cell_type": "code",
   "execution_count": 7,
   "metadata": {},
   "outputs": [
    {
     "name": "stdout",
     "output_type": "stream",
     "text": [
      "+---+---+---+--------------------+--------------+\n",
      "|  x|  y|  z|              source|         class|\n",
      "+---+---+---+--------------------+--------------+\n",
      "|  0| 10| 28|Accelerometer-201...|     Getup_bed|\n",
      "|  0| 12| 39|Accelerometer-201...| Sitdown_chair|\n",
      "|  0| 15| 39|Accelerometer-201...|   Brush_teeth|\n",
      "|  0| 16| 31|Accelerometer-201...|     Getup_bed|\n",
      "|  0| 23| 36|Accelerometer-201...|   Brush_teeth|\n",
      "|  0| 24| 35|Accelerometer-201...| Sitdown_chair|\n",
      "|  0| 25| 40|Accelerometer-201...|   Brush_teeth|\n",
      "|  0| 26| 15|Accelerometer-201...|  Climb_stairs|\n",
      "|  0| 26| 42|Accelerometer-201...|   Brush_teeth|\n",
      "|  0| 27| 33|Accelerometer-201...|     Getup_bed|\n",
      "|  0| 27| 37|Accelerometer-201...|   Brush_teeth|\n",
      "|  0| 27| 39|Accelerometer-201...|   Brush_teeth|\n",
      "|  0| 27| 41|Accelerometer-201...|   Brush_teeth|\n",
      "|  0| 28| 28|Accelerometer-201...|   Brush_teeth|\n",
      "|  0| 29| 17|Accelerometer-201...|     Getup_bed|\n",
      "|  0| 29| 25|Accelerometer-201...|     Getup_bed|\n",
      "|  0| 29| 25|Accelerometer-201...|  Climb_stairs|\n",
      "|  0| 29| 32|Accelerometer-201...|Descend_stairs|\n",
      "|  0| 29| 34|Accelerometer-201...|          Walk|\n",
      "|  0| 29| 37|Accelerometer-201...|   Brush_teeth|\n",
      "+---+---+---+--------------------+--------------+\n",
      "only showing top 20 rows\n",
      "\n"
     ]
    }
   ],
   "source": [
    "df_train.show()"
   ]
  },
  {
   "cell_type": "code",
   "execution_count": 8,
   "metadata": {},
   "outputs": [],
   "source": [
    "from pyspark.ml.classification import LogisticRegression\n",
    "from pyspark.ml import Pipeline\n",
    "\n",
    "lr = LogisticRegression(maxIter=10, regParam=0.3, elasticNetParam=0.8)\n",
    "pipeline = Pipeline(stages=[indexer, vectorAssembler, normalizer,lr])\n",
    "model = pipeline.fit(df_train)\n",
    "prediction = model.transform(df_test)"
   ]
  },
  {
   "cell_type": "markdown",
   "metadata": {},
   "source": [
    "If we look at the schema of the prediction dataframe we see that there is an additional column called prediction which contains the best guess for the class our model predicts."
   ]
  },
  {
   "cell_type": "code",
   "execution_count": 9,
   "metadata": {},
   "outputs": [
    {
     "name": "stdout",
     "output_type": "stream",
     "text": [
      "root\n",
      " |-- x: integer (nullable = true)\n",
      " |-- y: integer (nullable = true)\n",
      " |-- z: integer (nullable = true)\n",
      " |-- source: string (nullable = true)\n",
      " |-- class: string (nullable = true)\n",
      " |-- label: double (nullable = false)\n",
      " |-- features: vector (nullable = true)\n",
      " |-- features_norm: vector (nullable = true)\n",
      " |-- rawPrediction: vector (nullable = true)\n",
      " |-- probability: vector (nullable = true)\n",
      " |-- prediction: double (nullable = false)\n",
      "\n"
     ]
    }
   ],
   "source": [
    "prediction.printSchema()"
   ]
  },
  {
   "cell_type": "code",
   "execution_count": 10,
   "metadata": {},
   "outputs": [
    {
     "name": "stdout",
     "output_type": "stream",
     "text": [
      "+---+---+---+--------------------+--------------+-----+---------------+--------------------+--------------------+--------------------+----------+\n",
      "|  x|  y|  z|              source|         class|label|       features|       features_norm|       rawPrediction|         probability|prediction|\n",
      "+---+---+---+--------------------+--------------+-----+---------------+--------------------+--------------------+--------------------+----------+\n",
      "|  0| 11| 38|Accelerometer-201...| Sitdown_chair|  8.0|[0.0,11.0,38.0]|[0.0,0.2244897959...|[1.25607900059940...|[0.20682507997930...|       0.0|\n",
      "|  0| 17| 36|Accelerometer-201...|   Brush_teeth|  6.0|[0.0,17.0,36.0]|[0.0,0.3207547169...|[1.25607900059940...|[0.20682507997930...|       0.0|\n",
      "|  0| 25| 30|Accelerometer-201...|   Brush_teeth|  6.0|[0.0,25.0,30.0]|[0.0,0.4545454545...|[1.25607900059940...|[0.20682507997930...|       0.0|\n",
      "|  0| 27| 31|Accelerometer-201...| Sitdown_chair|  8.0|[0.0,27.0,31.0]|[0.0,0.4655172413...|[1.25607900059940...|[0.20682507997930...|       0.0|\n",
      "|  0| 28| 48|Accelerometer-201...|   Brush_teeth|  6.0|[0.0,28.0,48.0]|[0.0,0.3684210526...|[1.25607900059940...|[0.20682507997930...|       0.0|\n",
      "|  0| 29| 43|Accelerometer-201...|   Brush_teeth|  6.0|[0.0,29.0,43.0]|[0.0,0.4027777777...|[1.25607900059940...|[0.20682507997930...|       0.0|\n",
      "|  0| 30| 24|Accelerometer-201...| Standup_chair|  7.0|[0.0,30.0,24.0]|[0.0,0.5555555555...|[1.25607900059940...|[0.20682507997930...|       0.0|\n",
      "|  0| 30| 33|Accelerometer-201...|   Brush_teeth|  6.0|[0.0,30.0,33.0]|[0.0,0.4761904761...|[1.25607900059940...|[0.20682507997930...|       0.0|\n",
      "|  0| 30| 38|Accelerometer-201...|  Climb_stairs|  4.0|[0.0,30.0,38.0]|[0.0,0.4411764705...|[1.25607900059940...|[0.20682507997930...|       0.0|\n",
      "|  0| 30| 44|Accelerometer-201...|   Brush_teeth|  6.0|[0.0,30.0,44.0]|[0.0,0.4054054054...|[1.25607900059940...|[0.20682507997930...|       0.0|\n",
      "|  0| 30| 46|Accelerometer-201...|   Brush_teeth|  6.0|[0.0,30.0,46.0]|[0.0,0.3947368421...|[1.25607900059940...|[0.20682507997930...|       0.0|\n",
      "|  0| 31| 29|Accelerometer-201...|          Walk|  0.0|[0.0,31.0,29.0]|[0.0,0.5166666666...|[1.25607900059940...|[0.20682507997930...|       0.0|\n",
      "|  0| 31| 30|Accelerometer-201...| Standup_chair|  7.0|[0.0,31.0,30.0]|[0.0,0.5081967213...|[1.25607900059940...|[0.20682507997930...|       0.0|\n",
      "|  0| 31| 39|Accelerometer-201...|Descend_stairs| 10.0|[0.0,31.0,39.0]|[0.0,0.4428571428...|[1.25607900059940...|[0.20682507997930...|       0.0|\n",
      "|  0| 32| 32|Accelerometer-201...|  Climb_stairs|  4.0|[0.0,32.0,32.0]|       [0.0,0.5,0.5]|[1.25607900059940...|[0.20682507997930...|       0.0|\n",
      "|  0| 32| 33|Accelerometer-201...| Standup_chair|  7.0|[0.0,32.0,33.0]|[0.0,0.4923076923...|[1.25607900059940...|[0.20682507997930...|       0.0|\n",
      "|  0| 32| 46|Accelerometer-201...|   Brush_teeth|  6.0|[0.0,32.0,46.0]|[0.0,0.4102564102...|[1.25607900059940...|[0.20682507997930...|       0.0|\n",
      "|  0| 33| 31|Accelerometer-201...|Descend_stairs| 10.0|[0.0,33.0,31.0]|[0.0,0.515625,0.4...|[1.25607900059940...|[0.20682507997930...|       0.0|\n",
      "|  0| 33| 31|Accelerometer-201...|  Climb_stairs|  4.0|[0.0,33.0,31.0]|[0.0,0.515625,0.4...|[1.25607900059940...|[0.20682507997930...|       0.0|\n",
      "|  0| 33| 32|Accelerometer-201...|     Getup_bed|  1.0|[0.0,33.0,32.0]|[0.0,0.5076923076...|[1.25607900059940...|[0.20682507997930...|       0.0|\n",
      "+---+---+---+--------------------+--------------+-----+---------------+--------------------+--------------------+--------------------+----------+\n",
      "only showing top 20 rows\n",
      "\n"
     ]
    }
   ],
   "source": [
    "prediction.show()"
   ]
  },
  {
   "cell_type": "markdown",
   "metadata": {},
   "source": [
    "Let’s evaluate performance by using a build-in functionality of Apache SparkML."
   ]
  },
  {
   "cell_type": "code",
   "execution_count": 11,
   "metadata": {},
   "outputs": [
    {
     "data": {
      "text/plain": [
       "0.2057135826221183"
      ]
     },
     "execution_count": 11,
     "metadata": {},
     "output_type": "execute_result"
    }
   ],
   "source": [
    "from pyspark.ml.evaluation import MulticlassClassificationEvaluator\n",
    "MulticlassClassificationEvaluator().setMetricName(\"accuracy\").evaluate(prediction) "
   ]
  },
  {
   "cell_type": "markdown",
   "metadata": {},
   "source": [
    "So we get 20% right. This is not bad for a baseline. Note that random guessing would give us only 7%. Of course we need to improve. You might have notices that we’re dealing with a time series here. And we’re not making use of that fact right now as we look at each training example only individually. But this is ok for now. More advanced courses like “Advanced Machine Learning and Signal Processing” (https://www.coursera.org/learn/advanced-machine-learning-signal-processing/) will teach you how to improve accuracy to the nearly 100% by using algorithms like Fourier transformation or wavelet transformation. But let’s skip this for now. In the following cell, please use the RandomForest classifier (you might need to play with the “numTrees” parameter) in the code cell below. You should get an accuracy of around 44%. More on RandomForest can be found here:\n",
    "\n",
    "https://spark.apache.org/docs/latest/ml-classification-regression.html#random-forest-classifier\n"
   ]
  },
  {
   "cell_type": "code",
   "execution_count": null,
   "metadata": {},
   "outputs": [],
   "source": [
    "$$"
   ]
  }
 ],
 "metadata": {
  "kernelspec": {
   "display_name": "Python 3",
   "language": "python",
   "name": "python3"
  },
  "language_info": {
   "codemirror_mode": {
    "name": "ipython",
    "version": 3
   },
   "file_extension": ".py",
   "mimetype": "text/x-python",
   "name": "python",
   "nbconvert_exporter": "python",
   "pygments_lexer": "ipython3",
   "version": "3.7.3"
  }
 },
 "nbformat": 4,
 "nbformat_minor": 1
}
